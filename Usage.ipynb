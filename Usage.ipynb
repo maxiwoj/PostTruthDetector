{
 "cells": [
  {
   "cell_type": "code",
   "execution_count": 1,
   "metadata": {
    "collapsed": false
   },
   "outputs": [
    {
     "name": "stderr",
     "output_type": "stream",
     "text": [
      "Using TensorFlow backend.\n"
     ]
    }
   ],
   "source": [
    "import post_truth_detector"
   ]
  },
  {
   "cell_type": "markdown",
   "metadata": {},
   "source": [
    "# Test relativness between title and article"
   ]
  },
  {
   "cell_type": "code",
   "execution_count": 15,
   "metadata": {
    "collapsed": false
   },
   "outputs": [
    {
     "data": {
      "text/plain": [
       "1"
      ]
     },
     "execution_count": 15,
     "metadata": {},
     "output_type": "execute_result"
    }
   ],
   "source": [
    "post_truth_detector.relativeness_analisys(\"Hundreds of Palestinians flee floods in Gaza as Israel opens dams\",\n",
    "                                         \"\"\"Hundreds of Palestinians were evacuated from their homes Sunday morning\n",
    "                                         after Israeli authorities opened a number of dams near the border, flooding \n",
    "                                         the Gaza Valley in the wake of a recent severe winter storm.\n",
    "                                         \n",
    "                                         The Gaza Ministry of Interior said in a statement that civil defense services \n",
    "                                         and teams from the Ministry of Public Works had evacuated more than 80 families \n",
    "                                         from both sides of the Gaza Valley (Wadi Gaza) after their homes flooded as water\n",
    "                                         levels reached more than three meters.\\n\\nGaza has experienced flooding in recent \n",
    "                                         days amid a major storm that saw temperatures drop and frigid rain pour down.\n",
    "                                         \n",
    "                                         The storm displaced dozens and caused hardship for tens of thousands, including \n",
    "                                         many of the approximately 110,000 Palestinians left homeless by Israel's assault \n",
    "                                         over summer.\n",
    "                                         \n",
    "                                         The suffering is compounded by the fact that Israel has maintained\n",
    "                                         a complete siege over Gaza for the last eight years, severely limiting electricity \n",
    "                                         and the availability of fuel for generators. It has also prevented the displaced \n",
    "                                         from rebuilding their homes, as construction materials are largely banned from \n",
    "                                         entering.\n",
    "                                         \n",
    "                                         Gaza civil defense services spokesman Muhammad al-Midana warned that \n",
    "                                         further harm could be caused if Israel opens up more dams in the area, noting that \n",
    "                                         water is currently flowing at a high speed from the Israel border through the \n",
    "                                         valley and into the Mediterranean sea.\n",
    "                                         \n",
    "                                         Evacuated families have been sent to \n",
    "                                         shelters sponsored by UNRWA, the UN agency for Palestinian refugees, in al-Bureij \n",
    "                                         refugee camp and in al-Zahra neighborhood in the central Gaza Strip. \n",
    "                                         \n",
    "                                         The Gaza Valley (Wadi Gaza) is a wetland located in the central Gaza Strip between\n",
    "                                         al-Nuseirat refugee camp and al-Moghraqa. It is called HaBesor in Hebrew, and it \n",
    "                                         flows from two streams -- one whose source runs from near Beersheba, and the other \n",
    "                                         from near Hebron.\\n\\nIsraeli dams on the river to collect rainwater have dried up \n",
    "                                         the wetlands inside Gaza, and destroyed the only source of surface water in the \n",
    "                                         area.\n",
    "                                         \n",
    "                                         Locals have continued to use it to dispose of their waste for lack of other\n",
    "                                         ways to do so, however, creating an environmental hazard.\n",
    "                                         \n",
    "                                         This is not the first time Israeli authorities have opened the Gaza Valley dams.\n",
    "                                         \n",
    "                                         In Dec. 2013, Israeli \n",
    "                                         authorities also opened the dams amid heavy flooding in the Gaza Strip. The \n",
    "                                         resulting floods damaged dozens of homes and forces many families in the area from \n",
    "                                         their homes.\\n\\nIn 2010, the dams were opened as well, forcing 100 families from \n",
    "                                         their homes. At the time civil defense services said that they had managed to save \n",
    "                                         seven people who had been at risk of drowning.\"\"\")"
   ]
  },
  {
   "cell_type": "code",
   "execution_count": 3,
   "metadata": {
    "collapsed": false
   },
   "outputs": [
    {
     "data": {
      "text/plain": [
       "0"
      ]
     },
     "execution_count": 3,
     "metadata": {},
     "output_type": "execute_result"
    }
   ],
   "source": [
    "post_truth_detector.relativeness_analisys(\"\"\"Police find mass graves with at least '15 bodies' \n",
    "                                          near Mexico town where 43 students disappeared after police clash\"\"\",\n",
    "                                         \"\"\"Danny Boyle is directing the untitled film\\n\\nSeth Rogen is being eyed \n",
    "                                         to play Apple co-founder Steve Wozniak in Sony’s Steve Jobs biopic.\n",
    "                                         \n",
    "                                         Danny Boyle is directing the untitled film, based on Walter Isaacson\\'s \n",
    "                                         book and adapted by Aaron Sorkin, which is one of the most anticipated \n",
    "                                         biopics in recent years.\\n\\nNegotiations have not yet begun, and it’s not \n",
    "                                         even clear if Rogen has an official offer, but the producers — Scott Rudin, \n",
    "                                         Guymon Casady and Mark Gordon — have set their sights on the talent and are \n",
    "                                         in talks.\\n\\nOf course, this may all be for naught as Christian Bale, the \n",
    "                                         actor who is to play Jobs, is still in the midst of closing his deal. \n",
    "                                         Sources say that dealmaking process is in a sensitive stage.\n",
    "                                         \n",
    "                                         Insiders say Boyle will is flying to Los Angeles to meet with actress to \n",
    "                                         play one of the female leads, an assistant to Jobs. Insiders say that Jessica \n",
    "                                         Chastain is one of the actresses on the meeting list.\n",
    "                                         \n",
    "                                         Wozniak, known as \"Woz,\" co-founded Apple with Jobs and Ronald Wayne. He first \n",
    "                                         met Jobs when they worked at Atari and later was responsible for creating the \n",
    "                                         early Apple computers.\"\"\")"
   ]
  },
  {
   "cell_type": "markdown",
   "metadata": {},
   "source": [
    "# Test clickbaitness"
   ]
  },
  {
   "cell_type": "code",
   "execution_count": 8,
   "metadata": {
    "collapsed": false
   },
   "outputs": [
    {
     "data": {
      "text/plain": [
       "0.68122256"
      ]
     },
     "execution_count": 8,
     "metadata": {},
     "output_type": "execute_result"
    }
   ],
   "source": [
    "post_truth_detector.clickbaitness(\"The Way This Man Finds Out His Wife Has Been Cheating On Him Is Savage\")"
   ]
  },
  {
   "cell_type": "code",
   "execution_count": 14,
   "metadata": {
    "collapsed": false
   },
   "outputs": [
    {
     "data": {
      "text/plain": [
       "0.47793227"
      ]
     },
     "execution_count": 14,
     "metadata": {},
     "output_type": "execute_result"
    }
   ],
   "source": [
    "post_truth_detector.clickbaitness(\"Theresa May: Internet must be regulated to prevent terrorism\")"
   ]
  },
  {
   "cell_type": "markdown",
   "metadata": {},
   "source": [
    "# Test unreliability of sites"
   ]
  },
  {
   "cell_type": "code",
   "execution_count": 16,
   "metadata": {
    "collapsed": false
   },
   "outputs": [
    {
     "data": {
      "text/plain": [
       "4.126244844010737e-06"
      ]
     },
     "execution_count": 16,
     "metadata": {},
     "output_type": "execute_result"
    }
   ],
   "source": [
    "post_truth_detector.site_unreliability(\"cnn.com\")"
   ]
  },
  {
   "cell_type": "code",
   "execution_count": 17,
   "metadata": {
    "collapsed": false
   },
   "outputs": [
    {
     "data": {
      "text/plain": [
       "0.1267470194047509"
      ]
     },
     "execution_count": 17,
     "metadata": {},
     "output_type": "execute_result"
    }
   ],
   "source": [
    "post_truth_detector.site_unreliability(\"wp.pl\")"
   ]
  },
  {
   "cell_type": "code",
   "execution_count": 18,
   "metadata": {
    "collapsed": false
   },
   "outputs": [
    {
     "data": {
      "text/plain": [
       "0.987922632125095"
      ]
     },
     "execution_count": 18,
     "metadata": {},
     "output_type": "execute_result"
    }
   ],
   "source": [
    "post_truth_detector.site_unreliability(\"aszdziennik.pl\")"
   ]
  },
  {
   "cell_type": "code",
   "execution_count": 19,
   "metadata": {
    "collapsed": false
   },
   "outputs": [
    {
     "data": {
      "text/plain": [
       "0.6739055600197338"
      ]
     },
     "execution_count": 19,
     "metadata": {},
     "output_type": "execute_result"
    }
   ],
   "source": [
    "post_truth_detector.site_unreliability(\"facebook.com\")"
   ]
  },
  {
   "cell_type": "markdown",
   "metadata": {},
   "source": [
    "# Test fact unreliability"
   ]
  },
  {
   "cell_type": "code",
   "execution_count": 22,
   "metadata": {
    "collapsed": false
   },
   "outputs": [
    {
     "data": {
      "text/plain": [
       "0.2465748413992007"
      ]
     },
     "execution_count": 22,
     "metadata": {},
     "output_type": "execute_result"
    }
   ],
   "source": [
    "post_truth_detector.fact_unreliability(\"great britain leaves european union\")"
   ]
  },
  {
   "cell_type": "code",
   "execution_count": 21,
   "metadata": {
    "collapsed": false
   },
   "outputs": [
    {
     "data": {
      "text/plain": [
       "0.0014749459552182073"
      ]
     },
     "execution_count": 21,
     "metadata": {},
     "output_type": "execute_result"
    }
   ],
   "source": [
    "post_truth_detector.fact_unreliability(\"Trump became the president\")"
   ]
  },
  {
   "cell_type": "code",
   "execution_count": 23,
   "metadata": {
    "collapsed": false
   },
   "outputs": [
    {
     "data": {
      "text/plain": [
       "0.9764099526921393"
      ]
     },
     "execution_count": 23,
     "metadata": {},
     "output_type": "execute_result"
    }
   ],
   "source": [
    "post_truth_detector.fact_unreliability(\"Pope has a new baby\")"
   ]
  },
  {
   "cell_type": "markdown",
   "metadata": {},
   "source": [
    "# Sentiment analisys"
   ]
  },
  {
   "cell_type": "code",
   "execution_count": 24,
   "metadata": {
    "collapsed": false
   },
   "outputs": [
    {
     "data": {
      "text/plain": [
       "Sentiment(polarity=-0.6999999999999998, subjectivity=0.6666666666666666)"
      ]
     },
     "execution_count": 24,
     "metadata": {},
     "output_type": "execute_result"
    }
   ],
   "source": [
    "post_truth_detector.sentiment_analysis(\"Unbelievably bad performance\")"
   ]
  },
  {
   "cell_type": "code",
   "execution_count": 25,
   "metadata": {
    "collapsed": false
   },
   "outputs": [
    {
     "data": {
      "text/plain": [
       "Sentiment(polarity=0.0, subjectivity=0.0)"
      ]
     },
     "execution_count": 25,
     "metadata": {},
     "output_type": "execute_result"
    }
   ],
   "source": [
    "post_truth_detector.sentiment_analysis(\"Trump becames the president of United States\")"
   ]
  }
 ],
 "metadata": {
  "kernelspec": {
   "display_name": "Python 3",
   "language": "python",
   "name": "python3"
  },
  "language_info": {
   "codemirror_mode": {
    "name": "ipython",
    "version": 3.0
   },
   "file_extension": ".py",
   "mimetype": "text/x-python",
   "name": "python",
   "nbconvert_exporter": "python",
   "pygments_lexer": "ipython3",
   "version": "3.6.0"
  }
 },
 "nbformat": 4,
 "nbformat_minor": 0
}